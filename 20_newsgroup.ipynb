{
 "cells": [
  {
   "cell_type": "code",
   "execution_count": 1,
   "metadata": {},
   "outputs": [
    {
     "name": "stderr",
     "output_type": "stream",
     "text": [
      "Using TensorFlow backend.\n"
     ]
    }
   ],
   "source": [
    "from keras.models import Model\n",
    "from keras.layers import Input, Embedding, Conv1D, MaxPooling1D, GlobalMaxPooling1D, Dense\n",
    "from keras.preprocessing.sequence import pad_sequences\n",
    "from keras.preprocessing.text import Tokenizer\n",
    "from keras.utils import to_categorical\n",
    "import numpy as np\n",
    "import os"
   ]
  },
  {
   "cell_type": "code",
   "execution_count": 2,
   "metadata": {},
   "outputs": [],
   "source": [
    "BASE_PATH = './'\n",
    "GLOVE_PATH = os.path.join(BASE_PATH, 'glove.6B/glove.6B.50d.txt')\n",
    "NEWS_PATH = os.path.join(BASE_PATH, '20_newsgroup')\n",
    "MAX_VOCAB = 20000\n",
    "MAX_SEQ_LEN = 1000\n",
    "EMBEDDING_DIM = 50"
   ]
  },
  {
   "cell_type": "code",
   "execution_count": 3,
   "metadata": {},
   "outputs": [],
   "source": [
    "glove_dic = {}\n",
    "with open(GLOVE_PATH) as f:\n",
    "    for line in f:\n",
    "        values = line.split()\n",
    "        glove_dic[values[0]] = np.array(values[1:], dtype=np.float32)"
   ]
  },
  {
   "cell_type": "code",
   "execution_count": 4,
   "metadata": {},
   "outputs": [],
   "source": [
    "texts = []\n",
    "label_index = {}\n",
    "label_ids = []\n",
    "\n",
    "for label in os.listdir(NEWS_PATH):\n",
    "    label_id = len(label_index)\n",
    "    label_index[label] = label_id\n",
    "    path = os.path.join(NEWS_PATH, label)\n",
    "    \n",
    "    for fname in os.listdir(path):\n",
    "        with open(os.path.join(path, fname), encoding='latin-1') as f:\n",
    "            t = f.read()\n",
    "            i = t.find('\\n\\n')  # skip header\n",
    "            if i != -1:\n",
    "                t = t[i+2:]\n",
    "            texts.append(t)\n",
    "            \n",
    "        label_ids.append(label_id)"
   ]
  },
  {
   "cell_type": "code",
   "execution_count": 5,
   "metadata": {},
   "outputs": [],
   "source": [
    "tokenizer = Tokenizer(num_words=MAX_VOCAB)\n",
    "tokenizer.fit_on_texts(texts)\n",
    "\n",
    "data = tokenizer.texts_to_sequences(texts)\n",
    "data = pad_sequences(data, maxlen=MAX_SEQ_LEN)\n",
    "labels = to_categorical(np.array(label_ids))\n",
    "\n",
    "indices = np.arange(data.shape[0])\n",
    "np.random.shuffle(indices)\n",
    "data = data[indices]\n",
    "labels = labels[indices]"
   ]
  },
  {
   "cell_type": "code",
   "execution_count": null,
   "metadata": {},
   "outputs": [],
   "source": [
    "word_index = tokenizer.word_index\n",
    "num_vocab = min(MAX_VOCAB, len(word_index)+1)\n",
    "\n",
    "embedding_matrix = np.zeros((num_vocab, EMBEDDING_DIM))\n",
    "for word, index in word_index.items():\n",
    "    if index >= MAX_VOCAB:\n",
    "        continue\n",
    "    word_vec = glove_dic.get(word)\n",
    "    if word_vec is not None:\n",
    "        embedding_matrix[index] = word_vec    "
   ]
  },
  {
   "cell_type": "code",
   "execution_count": 6,
   "metadata": {},
   "outputs": [
    {
     "name": "stdout",
     "output_type": "stream",
     "text": [
      "_________________________________________________________________\n",
      "Layer (type)                 Output Shape              Param #   \n",
      "=================================================================\n",
      "input_1 (InputLayer)         (None, 1000)              0         \n",
      "_________________________________________________________________\n",
      "embedding_1 (Embedding)      (None, 1000, 50)          1000000   \n",
      "_________________________________________________________________\n",
      "conv1d_1 (Conv1D)            (None, 996, 128)          32128     \n",
      "_________________________________________________________________\n",
      "max_pooling1d_1 (MaxPooling1 (None, 199, 128)          0         \n",
      "_________________________________________________________________\n",
      "conv1d_2 (Conv1D)            (None, 195, 128)          82048     \n",
      "_________________________________________________________________\n",
      "global_max_pooling1d_1 (Glob (None, 128)               0         \n",
      "_________________________________________________________________\n",
      "dense_1 (Dense)              (None, 128)               16512     \n",
      "_________________________________________________________________\n",
      "dense_2 (Dense)              (None, 20)                2580      \n",
      "=================================================================\n",
      "Total params: 1,133,268\n",
      "Trainable params: 133,268\n",
      "Non-trainable params: 1,000,000\n",
      "_________________________________________________________________\n"
     ]
    }
   ],
   "source": [
    "# build model\n",
    "seq_input = Input(shape=(MAX_SEQ_LEN,), dtype='int32')\n",
    "seq_embedding = Embedding(num_vocab,\n",
    "                          EMBEDDING_DIM,\n",
    "                          weights=[embedding_matrix],\n",
    "                          input_length=MAX_SEQ_LEN,\n",
    "                          trainable=False)(seq_input)\n",
    "\n",
    "x = Conv1D(128, 5, activation='relu')(seq_embedding)\n",
    "x = MaxPooling1D(5)(x)\n",
    "x = Conv1D(128, 5, activation='relu')(x)\n",
    "x = GlobalMaxPooling1D()(x)\n",
    "x = Dense(128, activation='relu')(x)\n",
    "preds = Dense(len(label_index), activation='softmax')(x)\n",
    "model = Model(seq_input, preds)\n",
    "model.compile(loss='categorical_crossentropy', optimizer='rmsprop', metrics=['acc'])\n",
    "model.summary()"
   ]
  },
  {
   "cell_type": "code",
   "execution_count": 7,
   "metadata": {},
   "outputs": [
    {
     "name": "stdout",
     "output_type": "stream",
     "text": [
      "Train on 15997 samples, validate on 4000 samples\n",
      "Epoch 1/3\n",
      "15997/15997 [==============================] - 243s 15ms/step - loss: 2.0874 - acc: 0.3059 - val_loss: 1.4286 - val_acc: 0.5105\n",
      "Epoch 2/3\n",
      "15997/15997 [==============================] - 257s 16ms/step - loss: 1.3231 - acc: 0.5494 - val_loss: 1.2664 - val_acc: 0.5747\n",
      "Epoch 3/3\n",
      "15997/15997 [==============================] - 253s 16ms/step - loss: 1.0590 - acc: 0.6461 - val_loss: 1.1518 - val_acc: 0.6138\n"
     ]
    },
    {
     "data": {
      "text/plain": [
       "<keras.callbacks.History at 0x7f7d1a288da0>"
      ]
     },
     "execution_count": 7,
     "metadata": {},
     "output_type": "execute_result"
    }
   ],
   "source": [
    "model.fit(data, labels, batch_size=64, epochs=3, validation_split=0.2)"
   ]
  },
  {
   "cell_type": "code",
   "execution_count": 8,
   "metadata": {},
   "outputs": [],
   "source": [
    "model.save('model.h5')"
   ]
  },
  {
   "cell_type": "code",
   "execution_count": null,
   "metadata": {},
   "outputs": [],
   "source": []
  }
 ],
 "metadata": {
  "kernelspec": {
   "display_name": "Python 3",
   "language": "python",
   "name": "python3"
  },
  "language_info": {
   "codemirror_mode": {
    "name": "ipython",
    "version": 3
   },
   "file_extension": ".py",
   "mimetype": "text/x-python",
   "name": "python",
   "nbconvert_exporter": "python",
   "pygments_lexer": "ipython3",
   "version": "3.5.4"
  }
 },
 "nbformat": 4,
 "nbformat_minor": 2
}
